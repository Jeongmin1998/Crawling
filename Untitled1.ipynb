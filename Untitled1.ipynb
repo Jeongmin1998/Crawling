{
 "cells": [
  {
   "cell_type": "markdown",
   "metadata": {},
   "source": [
    "# 크롤링"
   ]
  },
  {
   "cell_type": "markdown",
   "metadata": {},
   "source": [
    "코로나 관련 10개 유튜브 영상을 댓글을 수집하여 하나의 데이터프레임으로 만들어보기"
   ]
  },
  {
   "cell_type": "code",
   "execution_count": 1,
   "metadata": {},
   "outputs": [
    {
     "name": "stdout",
     "output_type": "stream",
     "text": [
      "Requirement already satisfied: selenium in /home/ec2-user/anaconda3/envs/python3/lib/python3.6/site-packages (3.141.0)\n",
      "Requirement already satisfied: urllib3 in /home/ec2-user/anaconda3/envs/python3/lib/python3.6/site-packages (from selenium) (1.25.11)\n",
      "\u001b[33mWARNING: You are using pip version 20.3; however, version 20.3.3 is available.\n",
      "You should consider upgrading via the '/home/ec2-user/anaconda3/envs/python3/bin/python -m pip install --upgrade pip' command.\u001b[0m\n"
     ]
    }
   ],
   "source": [
    "!pip install selenium"
   ]
  },
  {
   "cell_type": "code",
   "execution_count": 2,
   "metadata": {},
   "outputs": [
    {
     "name": "stdout",
     "output_type": "stream",
     "text": [
      "  % Total    % Received % Xferd  Average Speed   Time    Time     Time  Current\n",
      "                                 Dload  Upload   Total   Spent    Left  Speed\n",
      "100  9526  100  9526    0     0   113k      0 --:--:-- --:--:-- --:--:--  113k\n",
      "Working in /tmp/google-chrome-installation\n",
      "/tmp/google-chrome-installation /home/ec2-user/SageMaker\n",
      "Configuring the Google Chrome repo in /etc/yum.repos.d/google-chrome.repo\n",
      "Loaded plugins: dkms-build-requires, priorities, update-motd, upgrade-helper,\n",
      "              : versionlock\n",
      "amzn-main                                                | 2.1 kB     00:00     \n",
      "amzn-updates                                             | 3.8 kB     00:00     \n",
      "google-chrome                                            | 1.3 kB     00:00     \n",
      "Package wget-1.18-5.30.amzn1.x86_64 already installed and latest version\n",
      "Nothing to do\n",
      "--2021-01-04 01:55:27--  https://dl.google.com/linux/linux_signing_key.pub\n",
      "Resolving dl.google.com (dl.google.com)... 172.217.9.78, 2607:f8b0:4009:816::200e\n",
      "Connecting to dl.google.com (dl.google.com)|172.217.9.78|:443... connected.\n",
      "HTTP request sent, awaiting response... 200 OK\n",
      "Length: 10218 (10.0K) [application/octet-stream]\n",
      "Saving to: ‘linux_signing_key.pub’\n",
      "\n",
      "linux_signing_key.p 100%[===================>]   9.98K  --.-KB/s    in 0.003s  \n",
      "\n",
      "2021-01-04 01:55:27 (3.06 MB/s) - ‘linux_signing_key.pub’ saved [10218/10218]\n",
      "\n",
      "Attempting a direction installation with yum.\n",
      "Loaded plugins: dkms-build-requires, priorities, update-motd, upgrade-helper,\n",
      "              : versionlock\n",
      "Package google-chrome-stable-87.0.4280.88-1.x86_64 already installed and latest version\n",
      "Nothing to do\n",
      "Successfully installed Google Chrome!\n"
     ]
    }
   ],
   "source": [
    "!curl https://intoli.com/install-google-chrome.sh | bash"
   ]
  },
  {
   "cell_type": "code",
   "execution_count": 3,
   "metadata": {},
   "outputs": [
    {
     "name": "stdout",
     "output_type": "stream",
     "text": [
      "Google Chrome 87.0.4280.88 \r\n"
     ]
    }
   ],
   "source": [
    "!/usr/bin/google-chrome-stable --version"
   ]
  },
  {
   "cell_type": "code",
   "execution_count": 4,
   "metadata": {},
   "outputs": [
    {
     "name": "stdout",
     "output_type": "stream",
     "text": [
      "ln: failed to create symbolic link ‘/usr/bin/chromium’: File exists\r\n"
     ]
    }
   ],
   "source": [
    "!sudo ln -s /usr/bin/google-chrome-stable /usr/bin/chromium"
   ]
  },
  {
   "cell_type": "code",
   "execution_count": 5,
   "metadata": {},
   "outputs": [
    {
     "name": "stdout",
     "output_type": "stream",
     "text": [
      "--2021-01-04 01:55:29--  https://chromedriver.storage.googleapis.com/86.0.4240.22/chromedriver_linux64.zip\n",
      "Resolving chromedriver.storage.googleapis.com (chromedriver.storage.googleapis.com)... 172.217.5.16, 2607:f8b0:4009:815::2010\n",
      "Connecting to chromedriver.storage.googleapis.com (chromedriver.storage.googleapis.com)|172.217.5.16|:443... connected.\n",
      "HTTP request sent, awaiting response... 200 OK\n",
      "Length: 5456932 (5.2M) [application/zip]\n",
      "Saving to: ‘chromedriver_linux64.zip’\n",
      "\n",
      "chromedriver_linux6 100%[===================>]   5.20M  31.9MB/s    in 0.2s    \n",
      "\n",
      "2021-01-04 01:55:29 (31.9 MB/s) - ‘chromedriver_linux64.zip’ saved [5456932/5456932]\n",
      "\n",
      "Archive:  chromedriver_linux64.zip\n",
      "  inflating: ./chromedriver          \n"
     ]
    }
   ],
   "source": [
    "!wget https://chromedriver.storage.googleapis.com/86.0.4240.22/chromedriver_linux64.zip\n",
    "!unzip chromedriver_linux64.zip -d .\n",
    "!rm chromedriver_linux64.zip\n",
    "!sudo mv chromedriver /usr/bin/"
   ]
  },
  {
   "cell_type": "code",
   "execution_count": 6,
   "metadata": {},
   "outputs": [
    {
     "name": "stdout",
     "output_type": "stream",
     "text": [
      "00. Basic\r\n",
      "01.Pandas_Basic\r\n",
      "02.Titanic\r\n",
      "03.Visualization\r\n",
      "04.Simple Classification\r\n",
      "05.Clustering\r\n",
      "06.Amazon Cloud Service Example\r\n",
      "auto-stop-idle.log\r\n",
      "Data Analysis\r\n",
      "lost+found\r\n",
      "selenium-beautifulsoup-LDA; Youtube comment analysis.ipynb\r\n",
      "Untitled1.ipynb\r\n",
      "Untitled.ipynb\r\n"
     ]
    }
   ],
   "source": [
    "!ls"
   ]
  },
  {
   "cell_type": "code",
   "execution_count": 7,
   "metadata": {},
   "outputs": [],
   "source": [
    "import selenium"
   ]
  },
  {
   "cell_type": "code",
   "execution_count": 8,
   "metadata": {},
   "outputs": [],
   "source": [
    "from selenium import webdriver"
   ]
  },
  {
   "cell_type": "code",
   "execution_count": 9,
   "metadata": {},
   "outputs": [],
   "source": [
    "opt = webdriver.ChromeOptions()\n",
    "opt.add_argument('--headless')"
   ]
  },
  {
   "cell_type": "code",
   "execution_count": 10,
   "metadata": {},
   "outputs": [
    {
     "data": {
      "text/plain": [
       "<selenium.webdriver.chrome.webdriver.WebDriver (session=\"55dfaed7f018183eab419c77bd7b3a4f\")>"
      ]
     },
     "execution_count": 10,
     "metadata": {},
     "output_type": "execute_result"
    }
   ],
   "source": [
    "driver = webdriver.Chrome(executable_path='chromedriver',options=opt)\n",
    "driver"
   ]
  },
  {
   "cell_type": "code",
   "execution_count": 11,
   "metadata": {},
   "outputs": [],
   "source": [
    "driver.get('https://google.com') "
   ]
  },
  {
   "cell_type": "code",
   "execution_count": 12,
   "metadata": {},
   "outputs": [],
   "source": [
    "import selenium\n",
    "from selenium import webdriver\n",
    "from selenium.webdriver.common.keys import Keys"
   ]
  },
  {
   "cell_type": "code",
   "execution_count": 13,
   "metadata": {},
   "outputs": [],
   "source": [
    "url1 = \"https://www.youtube.com/watch?v=V8WcEgktlLg\"\n",
    "url2 = \"https://www.youtube.com/watch?v=S4mfSCtfKCA\"\n",
    "url3 = \"https://www.youtube.com/watch?v=CGg8FzDAt9w\"\n",
    "url4 = \"https://www.youtube.com/watch?v=7KFnNvJKTH0\"\n",
    "url5 = \"https://www.youtube.com/watch?v=E2FOcc1GAP8\"\n",
    "url6 = \"https://www.youtube.com/watch?v=hMKSdCkegrQ\"\n",
    "url7 = \"https://www.youtube.com/watch?v=hMrk1VNBub8\"\n",
    "url8 = \"https://www.youtube.com/watch?v=fJ0ImR-K-hU\"\n",
    "url9 = \"https://www.youtube.com/watch?v=EY-SSAljYa4\"\n",
    "url10 = \"https://www.youtube.com/watch?v=rYGezUjvrWY\""
   ]
  },
  {
   "cell_type": "code",
   "execution_count": 14,
   "metadata": {},
   "outputs": [],
   "source": [
    "opt = webdriver.ChromeOptions() \n",
    "opt.add_argument('--headless') \n",
    "driver = webdriver.Chrome(executable_path='chromedriver', options=opt)"
   ]
  },
  {
   "cell_type": "code",
   "execution_count": 15,
   "metadata": {},
   "outputs": [],
   "source": [
    "SCROLL_RETRY_TIME = 0.5 \n",
    "RENEWAL_END_TIME = 5"
   ]
  },
  {
   "cell_type": "code",
   "execution_count": 16,
   "metadata": {},
   "outputs": [
    {
     "name": "stdout",
     "output_type": "stream",
     "text": [
      "Requirement already satisfied: BeautifulSoup4 in /home/ec2-user/anaconda3/envs/python3/lib/python3.6/site-packages (4.8.2)\n",
      "Requirement already satisfied: soupsieve>=1.2 in /home/ec2-user/anaconda3/envs/python3/lib/python3.6/site-packages (from BeautifulSoup4) (1.9.5)\n",
      "\u001b[33mWARNING: You are using pip version 20.3; however, version 20.3.3 is available.\n",
      "You should consider upgrading via the '/home/ec2-user/anaconda3/envs/python3/bin/python -m pip install --upgrade pip' command.\u001b[0m\n"
     ]
    }
   ],
   "source": [
    "!pip install BeautifulSoup4"
   ]
  },
  {
   "cell_type": "markdown",
   "metadata": {},
   "source": [
    "url1"
   ]
  },
  {
   "cell_type": "code",
   "execution_count": 17,
   "metadata": {
    "scrolled": true
   },
   "outputs": [],
   "source": [
    "from bs4 import BeautifulSoup \n",
    "\n",
    "driver.get(url1)"
   ]
  },
  {
   "cell_type": "code",
   "execution_count": 18,
   "metadata": {},
   "outputs": [],
   "source": [
    "import time\n",
    "SCROLL_PAUSE_TIME = .5 \n",
    "\n",
    "body= driver.find_element_by_tag_name('body') \n",
    "while True:\n",
    "    last_height = driver.execute_script('return document.documentElement.scrollHeight')  \n",
    "    for i in range(30):\n",
    "        body.send_keys(Keys.END)\n",
    "        time.sleep(SCROLL_PAUSE_TIME)\n",
    "    new_height = driver.execute_script('return document.documentElement.scrollHeight')\n",
    "    \n",
    "    if new_height == last_height: \n",
    "         break;\n",
    "       "
   ]
  },
  {
   "cell_type": "code",
   "execution_count": 19,
   "metadata": {},
   "outputs": [],
   "source": [
    "page = driver.page_source\n",
    "soup = BeautifulSoup(page, 'lxml') "
   ]
  },
  {
   "cell_type": "code",
   "execution_count": 20,
   "metadata": {},
   "outputs": [],
   "source": [
    "title = list(soup.select('#container > h1 > yt-formatted-string'))\n",
    "user_names = list(map(lambda x: x.text.strip(), soup.select('#author-text > span'))) \n",
    "user_comments = list(map(lambda x: x.text.strip(), soup.select('#content-text')))\n",
    "user_date = list(map(lambda x: x.text.strip(), soup.select('#header-author > yt-formatted-string > a')))"
   ]
  },
  {
   "cell_type": "code",
   "execution_count": 21,
   "metadata": {},
   "outputs": [
    {
     "data": {
      "text/plain": [
       "(1, 1580, 1580, 1580)"
      ]
     },
     "execution_count": 21,
     "metadata": {},
     "output_type": "execute_result"
    }
   ],
   "source": [
    "len(title), len(user_names), len(user_comments),len(user_date)"
   ]
  },
  {
   "cell_type": "code",
   "execution_count": 22,
   "metadata": {},
   "outputs": [],
   "source": [
    "titles=[title]*len(user_names)"
   ]
  },
  {
   "cell_type": "code",
   "execution_count": 23,
   "metadata": {},
   "outputs": [
    {
     "data": {
      "text/plain": [
       "1580"
      ]
     },
     "execution_count": 23,
     "metadata": {},
     "output_type": "execute_result"
    }
   ],
   "source": [
    "len(titles)"
   ]
  },
  {
   "cell_type": "code",
   "execution_count": 24,
   "metadata": {},
   "outputs": [
    {
     "data": {
      "text/html": [
       "<div>\n",
       "<style scoped>\n",
       "    .dataframe tbody tr th:only-of-type {\n",
       "        vertical-align: middle;\n",
       "    }\n",
       "\n",
       "    .dataframe tbody tr th {\n",
       "        vertical-align: top;\n",
       "    }\n",
       "\n",
       "    .dataframe thead th {\n",
       "        text-align: right;\n",
       "    }\n",
       "</style>\n",
       "<table border=\"1\" class=\"dataframe\">\n",
       "  <thead>\n",
       "    <tr style=\"text-align: right;\">\n",
       "      <th></th>\n",
       "      <th>TITLE</th>\n",
       "      <th>USER_NAME</th>\n",
       "      <th>USER_COMMENT</th>\n",
       "      <th>DATE</th>\n",
       "    </tr>\n",
       "  </thead>\n",
       "  <tbody>\n",
       "    <tr>\n",
       "      <th>0</th>\n",
       "      <td>[[Fauci on what to know about COVID-19 vaccine...</td>\n",
       "      <td>José Sánchez</td>\n",
       "      <td>The American People Don't Believe Anything Unt...</td>\n",
       "      <td>2 weeks ago</td>\n",
       "    </tr>\n",
       "    <tr>\n",
       "      <th>1</th>\n",
       "      <td>[[Fauci on what to know about COVID-19 vaccine...</td>\n",
       "      <td>Landscape Luke</td>\n",
       "      <td>Brave of them to allow comments for this video</td>\n",
       "      <td>2 weeks ago</td>\n",
       "    </tr>\n",
       "    <tr>\n",
       "      <th>2</th>\n",
       "      <td>[[Fauci on what to know about COVID-19 vaccine...</td>\n",
       "      <td>Zero Two</td>\n",
       "      <td>The media is a meme at this point</td>\n",
       "      <td>2 weeks ago</td>\n",
       "    </tr>\n",
       "    <tr>\n",
       "      <th>3</th>\n",
       "      <td>[[Fauci on what to know about COVID-19 vaccine...</td>\n",
       "      <td>Paul M.</td>\n",
       "      <td>WHEN I WAS A CHILD I LIVED IN A FANTASY WORLD,...</td>\n",
       "      <td>2 weeks ago</td>\n",
       "    </tr>\n",
       "    <tr>\n",
       "      <th>4</th>\n",
       "      <td>[[Fauci on what to know about COVID-19 vaccine...</td>\n",
       "      <td>TR Was Here</td>\n",
       "      <td>The people are finally waking up to the corona...</td>\n",
       "      <td>2 weeks ago</td>\n",
       "    </tr>\n",
       "  </tbody>\n",
       "</table>\n",
       "</div>"
      ],
      "text/plain": [
       "                                               TITLE       USER_NAME  \\\n",
       "0  [[Fauci on what to know about COVID-19 vaccine...    José Sánchez   \n",
       "1  [[Fauci on what to know about COVID-19 vaccine...  Landscape Luke   \n",
       "2  [[Fauci on what to know about COVID-19 vaccine...        Zero Two   \n",
       "3  [[Fauci on what to know about COVID-19 vaccine...         Paul M.   \n",
       "4  [[Fauci on what to know about COVID-19 vaccine...     TR Was Here   \n",
       "\n",
       "                                        USER_COMMENT         DATE  \n",
       "0  The American People Don't Believe Anything Unt...  2 weeks ago  \n",
       "1     Brave of them to allow comments for this video  2 weeks ago  \n",
       "2                  The media is a meme at this point  2 weeks ago  \n",
       "3  WHEN I WAS A CHILD I LIVED IN A FANTASY WORLD,...  2 weeks ago  \n",
       "4  The people are finally waking up to the corona...  2 weeks ago  "
      ]
     },
     "execution_count": 24,
     "metadata": {},
     "output_type": "execute_result"
    }
   ],
   "source": [
    "import pandas as pd\n",
    "youtube1 = pd.DataFrame({\n",
    "    'TITLE': titles,\n",
    "    'USER_NAME': user_names,\n",
    "    'USER_COMMENT':user_comments,\n",
    "    'DATE':user_date\n",
    "})\n",
    "youtube1.head()"
   ]
  },
  {
   "cell_type": "markdown",
   "metadata": {},
   "source": [
    "url2"
   ]
  },
  {
   "cell_type": "code",
   "execution_count": 25,
   "metadata": {},
   "outputs": [],
   "source": [
    "driver.get(url2)\n",
    "\n",
    "SCROLL_PAUSE_TIME = .5\n",
    "\n",
    "body= driver.find_element_by_tag_name('body')\n",
    "while True:\n",
    "    last_height = driver.execute_script('return document.documentElement.scrollHeight') \n",
    "    for i in range(30):\n",
    "        body.send_keys(Keys.END)\n",
    "        time.sleep(SCROLL_PAUSE_TIME)\n",
    "    new_height = driver.execute_script('return document.documentElement.scrollHeight')\n",
    "    \n",
    "    if new_height == last_height: \n",
    "         break;\n",
    "            \n",
    "page = driver.page_source\n",
    "soup = BeautifulSoup(page, 'lxml')\n",
    "\n",
    "title = list(soup.select('#container > h1 > yt-formatted-string'))\n",
    "user_names = list(map(lambda x: x.text.strip(), soup.select('#author-text > span'))) \n",
    "user_comments = list(map(lambda x: x.text.strip(), soup.select('#content-text')))\n",
    "user_date = list(map(lambda x: x.text.strip(), soup.select('#header-author > yt-formatted-string > a')))\n"
   ]
  },
  {
   "cell_type": "code",
   "execution_count": 26,
   "metadata": {},
   "outputs": [
    {
     "data": {
      "text/plain": [
       "(1, 630, 630, 630)"
      ]
     },
     "execution_count": 26,
     "metadata": {},
     "output_type": "execute_result"
    }
   ],
   "source": [
    "len(title), len(user_names), len(user_comments),len(user_date)"
   ]
  },
  {
   "cell_type": "code",
   "execution_count": 27,
   "metadata": {},
   "outputs": [],
   "source": [
    "titles=[title]*len(user_names)"
   ]
  },
  {
   "cell_type": "code",
   "execution_count": 28,
   "metadata": {},
   "outputs": [
    {
     "data": {
      "text/plain": [
       "630"
      ]
     },
     "execution_count": 28,
     "metadata": {},
     "output_type": "execute_result"
    }
   ],
   "source": [
    "len(titles)"
   ]
  },
  {
   "cell_type": "code",
   "execution_count": 29,
   "metadata": {},
   "outputs": [
    {
     "data": {
      "text/html": [
       "<div>\n",
       "<style scoped>\n",
       "    .dataframe tbody tr th:only-of-type {\n",
       "        vertical-align: middle;\n",
       "    }\n",
       "\n",
       "    .dataframe tbody tr th {\n",
       "        vertical-align: top;\n",
       "    }\n",
       "\n",
       "    .dataframe thead th {\n",
       "        text-align: right;\n",
       "    }\n",
       "</style>\n",
       "<table border=\"1\" class=\"dataframe\">\n",
       "  <thead>\n",
       "    <tr style=\"text-align: right;\">\n",
       "      <th></th>\n",
       "      <th>TITLE</th>\n",
       "      <th>USER_NAME</th>\n",
       "      <th>USER_COMMENT</th>\n",
       "      <th>DATE</th>\n",
       "    </tr>\n",
       "  </thead>\n",
       "  <tbody>\n",
       "    <tr>\n",
       "      <th>0</th>\n",
       "      <td>[[COVID-19 relief package deal on horizon]]</td>\n",
       "      <td>vmary prusha</td>\n",
       "      <td>We need to replace  these politicians who don'...</td>\n",
       "      <td>2 weeks ago</td>\n",
       "    </tr>\n",
       "    <tr>\n",
       "      <th>1</th>\n",
       "      <td>[[COVID-19 relief package deal on horizon]]</td>\n",
       "      <td>Đeath Vader</td>\n",
       "      <td>So half a check 9 months later ?\\nThis governm...</td>\n",
       "      <td>2 weeks ago</td>\n",
       "    </tr>\n",
       "    <tr>\n",
       "      <th>2</th>\n",
       "      <td>[[COVID-19 relief package deal on horizon]]</td>\n",
       "      <td>Eternal</td>\n",
       "      <td>Canada: We have 1000 a month\\n\\nGermany: We ga...</td>\n",
       "      <td>2 weeks ago</td>\n",
       "    </tr>\n",
       "    <tr>\n",
       "      <th>3</th>\n",
       "      <td>[[COVID-19 relief package deal on horizon]]</td>\n",
       "      <td>TJ Sports</td>\n",
       "      <td>600 or 700 dollars? Man get out of here!! That...</td>\n",
       "      <td>2 weeks ago</td>\n",
       "    </tr>\n",
       "    <tr>\n",
       "      <th>4</th>\n",
       "      <td>[[COVID-19 relief package deal on horizon]]</td>\n",
       "      <td>Xtria72</td>\n",
       "      <td>I see why they call it a bill, cause that's al...</td>\n",
       "      <td>2 weeks ago</td>\n",
       "    </tr>\n",
       "  </tbody>\n",
       "</table>\n",
       "</div>"
      ],
      "text/plain": [
       "                                         TITLE     USER_NAME  \\\n",
       "0  [[COVID-19 relief package deal on horizon]]  vmary prusha   \n",
       "1  [[COVID-19 relief package deal on horizon]]   Đeath Vader   \n",
       "2  [[COVID-19 relief package deal on horizon]]       Eternal   \n",
       "3  [[COVID-19 relief package deal on horizon]]     TJ Sports   \n",
       "4  [[COVID-19 relief package deal on horizon]]       Xtria72   \n",
       "\n",
       "                                        USER_COMMENT         DATE  \n",
       "0  We need to replace  these politicians who don'...  2 weeks ago  \n",
       "1  So half a check 9 months later ?\\nThis governm...  2 weeks ago  \n",
       "2  Canada: We have 1000 a month\\n\\nGermany: We ga...  2 weeks ago  \n",
       "3  600 or 700 dollars? Man get out of here!! That...  2 weeks ago  \n",
       "4  I see why they call it a bill, cause that's al...  2 weeks ago  "
      ]
     },
     "execution_count": 29,
     "metadata": {},
     "output_type": "execute_result"
    }
   ],
   "source": [
    "import pandas as pd\n",
    "youtube2 = pd.DataFrame({\n",
    "    'TITLE': titles,\n",
    "    'USER_NAME': user_names,\n",
    "    'USER_COMMENT':user_comments,\n",
    "    'DATE':user_date\n",
    "})\n",
    "youtube2.head()"
   ]
  },
  {
   "cell_type": "markdown",
   "metadata": {},
   "source": [
    "url3"
   ]
  },
  {
   "cell_type": "code",
   "execution_count": 30,
   "metadata": {},
   "outputs": [],
   "source": [
    "driver.get(url3)\n",
    "\n",
    "SCROLL_PAUSE_TIME = .5\n",
    "\n",
    "body= driver.find_element_by_tag_name('body')\n",
    "while True:\n",
    "    last_height = driver.execute_script('return document.documentElement.scrollHeight') \n",
    "    for i in range(30):\n",
    "        body.send_keys(Keys.END)\n",
    "        time.sleep(SCROLL_PAUSE_TIME)\n",
    "    new_height = driver.execute_script('return document.documentElement.scrollHeight')\n",
    "    \n",
    "    if new_height == last_height: \n",
    "         break;\n",
    "            \n",
    "page = driver.page_source\n",
    "soup = BeautifulSoup(page, 'lxml')\n",
    "\n",
    "title = list(soup.select('#container > h1 > yt-formatted-string'))\n",
    "user_names = list(map(lambda x: x.text.strip(), soup.select('#author-text > span'))) \n",
    "user_comments = list(map(lambda x: x.text.strip(), soup.select('#content-text')))\n",
    "user_date = list(map(lambda x: x.text.strip(), soup.select('#header-author > yt-formatted-string > a')))\n"
   ]
  },
  {
   "cell_type": "code",
   "execution_count": 31,
   "metadata": {
    "scrolled": true
   },
   "outputs": [
    {
     "data": {
      "text/html": [
       "<div>\n",
       "<style scoped>\n",
       "    .dataframe tbody tr th:only-of-type {\n",
       "        vertical-align: middle;\n",
       "    }\n",
       "\n",
       "    .dataframe tbody tr th {\n",
       "        vertical-align: top;\n",
       "    }\n",
       "\n",
       "    .dataframe thead th {\n",
       "        text-align: right;\n",
       "    }\n",
       "</style>\n",
       "<table border=\"1\" class=\"dataframe\">\n",
       "  <thead>\n",
       "    <tr style=\"text-align: right;\">\n",
       "      <th></th>\n",
       "      <th>TITLE</th>\n",
       "      <th>USER_NAME</th>\n",
       "      <th>USER_COMMENT</th>\n",
       "      <th>DATE</th>\n",
       "    </tr>\n",
       "  </thead>\n",
       "  <tbody>\n",
       "    <tr>\n",
       "      <th>0</th>\n",
       "      <td>[[Congress considers COVID-19 relief bill l WNT]]</td>\n",
       "      <td>Preston Duffield</td>\n",
       "      <td>bruh $600 does not even cover rent for a month...</td>\n",
       "      <td>2 weeks ago</td>\n",
       "    </tr>\n",
       "    <tr>\n",
       "      <th>1</th>\n",
       "      <td>[[Congress considers COVID-19 relief bill l WNT]]</td>\n",
       "      <td>hazmattack</td>\n",
       "      <td>Dear politicians, thank you for returning 0.00...</td>\n",
       "      <td>2 weeks ago</td>\n",
       "    </tr>\n",
       "    <tr>\n",
       "      <th>2</th>\n",
       "      <td>[[Congress considers COVID-19 relief bill l WNT]]</td>\n",
       "      <td>Terrance Lee</td>\n",
       "      <td>\"Considers\"  covid relief? Why dont we re cons...</td>\n",
       "      <td>2 weeks ago</td>\n",
       "    </tr>\n",
       "    <tr>\n",
       "      <th>3</th>\n",
       "      <td>[[Congress considers COVID-19 relief bill l WNT]]</td>\n",
       "      <td>Mudd</td>\n",
       "      <td>\"Considers\" AKA more stalling. This government...</td>\n",
       "      <td>2 weeks ago</td>\n",
       "    </tr>\n",
       "    <tr>\n",
       "      <th>4</th>\n",
       "      <td>[[Congress considers COVID-19 relief bill l WNT]]</td>\n",
       "      <td>Ricardo Martinez</td>\n",
       "      <td>\"Considers\", it basically means nothing. Just ...</td>\n",
       "      <td>2 weeks ago</td>\n",
       "    </tr>\n",
       "  </tbody>\n",
       "</table>\n",
       "</div>"
      ],
      "text/plain": [
       "                                               TITLE         USER_NAME  \\\n",
       "0  [[Congress considers COVID-19 relief bill l WNT]]  Preston Duffield   \n",
       "1  [[Congress considers COVID-19 relief bill l WNT]]        hazmattack   \n",
       "2  [[Congress considers COVID-19 relief bill l WNT]]      Terrance Lee   \n",
       "3  [[Congress considers COVID-19 relief bill l WNT]]              Mudd   \n",
       "4  [[Congress considers COVID-19 relief bill l WNT]]  Ricardo Martinez   \n",
       "\n",
       "                                        USER_COMMENT         DATE  \n",
       "0  bruh $600 does not even cover rent for a month...  2 weeks ago  \n",
       "1  Dear politicians, thank you for returning 0.00...  2 weeks ago  \n",
       "2  \"Considers\"  covid relief? Why dont we re cons...  2 weeks ago  \n",
       "3  \"Considers\" AKA more stalling. This government...  2 weeks ago  \n",
       "4  \"Considers\", it basically means nothing. Just ...  2 weeks ago  "
      ]
     },
     "execution_count": 31,
     "metadata": {},
     "output_type": "execute_result"
    }
   ],
   "source": [
    "len(title), len(user_names), len(user_comments),len(user_date)\n",
    "titles=[title]*len(user_names)\n",
    "\n",
    "import pandas as pd\n",
    "youtube3 = pd.DataFrame({\n",
    "    'TITLE': titles,\n",
    "    'USER_NAME': user_names,\n",
    "    'USER_COMMENT':user_comments,\n",
    "    'DATE':user_date\n",
    "})\n",
    "youtube3.head()"
   ]
  },
  {
   "cell_type": "code",
   "execution_count": 32,
   "metadata": {},
   "outputs": [
    {
     "data": {
      "text/html": [
       "<div>\n",
       "<style scoped>\n",
       "    .dataframe tbody tr th:only-of-type {\n",
       "        vertical-align: middle;\n",
       "    }\n",
       "\n",
       "    .dataframe tbody tr th {\n",
       "        vertical-align: top;\n",
       "    }\n",
       "\n",
       "    .dataframe thead th {\n",
       "        text-align: right;\n",
       "    }\n",
       "</style>\n",
       "<table border=\"1\" class=\"dataframe\">\n",
       "  <thead>\n",
       "    <tr style=\"text-align: right;\">\n",
       "      <th></th>\n",
       "      <th>TITLE</th>\n",
       "      <th>USER_NAME</th>\n",
       "      <th>USER_COMMENT</th>\n",
       "      <th>DATE</th>\n",
       "    </tr>\n",
       "  </thead>\n",
       "  <tbody>\n",
       "    <tr>\n",
       "      <th>0</th>\n",
       "      <td>[[60 morgue trucks on standby in California to...</td>\n",
       "      <td>Ed L</td>\n",
       "      <td>Let’s not vaccinate healthcare workers first b...</td>\n",
       "      <td>2 weeks ago</td>\n",
       "    </tr>\n",
       "    <tr>\n",
       "      <th>1</th>\n",
       "      <td>[[60 morgue trucks on standby in California to...</td>\n",
       "      <td>rxz4140</td>\n",
       "      <td>This feels like a depopulation event. Control-19</td>\n",
       "      <td>2 weeks ago</td>\n",
       "    </tr>\n",
       "    <tr>\n",
       "      <th>2</th>\n",
       "      <td>[[60 morgue trucks on standby in California to...</td>\n",
       "      <td>pablo escobar</td>\n",
       "      <td>They should count the people who died of suici...</td>\n",
       "      <td>2 weeks ago</td>\n",
       "    </tr>\n",
       "    <tr>\n",
       "      <th>3</th>\n",
       "      <td>[[60 morgue trucks on standby in California to...</td>\n",
       "      <td>eda mame</td>\n",
       "      <td>If it was so deadly all nurses wearing a flims...</td>\n",
       "      <td>2 weeks ago</td>\n",
       "    </tr>\n",
       "    <tr>\n",
       "      <th>4</th>\n",
       "      <td>[[60 morgue trucks on standby in California to...</td>\n",
       "      <td>GamingWithSteve</td>\n",
       "      <td>Nobody: \\n\\nAmerica: You’re dying? Lol not bef...</td>\n",
       "      <td>2 weeks ago (edited)</td>\n",
       "    </tr>\n",
       "  </tbody>\n",
       "</table>\n",
       "</div>"
      ],
      "text/plain": [
       "                                               TITLE        USER_NAME  \\\n",
       "0  [[60 morgue trucks on standby in California to...             Ed L   \n",
       "1  [[60 morgue trucks on standby in California to...          rxz4140   \n",
       "2  [[60 morgue trucks on standby in California to...    pablo escobar   \n",
       "3  [[60 morgue trucks on standby in California to...         eda mame   \n",
       "4  [[60 morgue trucks on standby in California to...  GamingWithSteve   \n",
       "\n",
       "                                        USER_COMMENT                  DATE  \n",
       "0  Let’s not vaccinate healthcare workers first b...           2 weeks ago  \n",
       "1   This feels like a depopulation event. Control-19           2 weeks ago  \n",
       "2  They should count the people who died of suici...           2 weeks ago  \n",
       "3  If it was so deadly all nurses wearing a flims...           2 weeks ago  \n",
       "4  Nobody: \\n\\nAmerica: You’re dying? Lol not bef...  2 weeks ago (edited)  "
      ]
     },
     "execution_count": 32,
     "metadata": {},
     "output_type": "execute_result"
    }
   ],
   "source": [
    "driver.get(url4)\n",
    "\n",
    "SCROLL_PAUSE_TIME = .5\n",
    "\n",
    "body= driver.find_element_by_tag_name('body')\n",
    "while True:\n",
    "    last_height = driver.execute_script('return document.documentElement.scrollHeight') \n",
    "    for i in range(30):\n",
    "        body.send_keys(Keys.END)\n",
    "        time.sleep(SCROLL_PAUSE_TIME)\n",
    "    new_height = driver.execute_script('return document.documentElement.scrollHeight')\n",
    "    \n",
    "    if new_height == last_height: \n",
    "         break;\n",
    "            \n",
    "page = driver.page_source\n",
    "soup = BeautifulSoup(page, 'lxml')\n",
    "\n",
    "title = list(soup.select('#container > h1 > yt-formatted-string'))\n",
    "user_names = list(map(lambda x: x.text.strip(), soup.select('#author-text > span'))) \n",
    "user_comments = list(map(lambda x: x.text.strip(), soup.select('#content-text')))\n",
    "user_date = list(map(lambda x: x.text.strip(), soup.select('#header-author > yt-formatted-string > a')))\n",
    "\n",
    "len(title), len(user_names), len(user_comments),len(user_date)\n",
    "titles=[title]*len(user_names)\n",
    "\n",
    "import pandas as pd\n",
    "youtube4 = pd.DataFrame({\n",
    "    'TITLE': titles,\n",
    "    'USER_NAME': user_names,\n",
    "    'USER_COMMENT':user_comments,\n",
    "    'DATE':user_date\n",
    "})\n",
    "youtube4.head()\n"
   ]
  },
  {
   "cell_type": "code",
   "execution_count": 33,
   "metadata": {},
   "outputs": [
    {
     "data": {
      "text/html": [
       "<div>\n",
       "<style scoped>\n",
       "    .dataframe tbody tr th:only-of-type {\n",
       "        vertical-align: middle;\n",
       "    }\n",
       "\n",
       "    .dataframe tbody tr th {\n",
       "        vertical-align: top;\n",
       "    }\n",
       "\n",
       "    .dataframe thead th {\n",
       "        text-align: right;\n",
       "    }\n",
       "</style>\n",
       "<table border=\"1\" class=\"dataframe\">\n",
       "  <thead>\n",
       "    <tr style=\"text-align: right;\">\n",
       "      <th></th>\n",
       "      <th>TITLE</th>\n",
       "      <th>USER_NAME</th>\n",
       "      <th>USER_COMMENT</th>\n",
       "      <th>DATE</th>\n",
       "    </tr>\n",
       "  </thead>\n",
       "  <tbody>\n",
       "    <tr>\n",
       "      <th>0</th>\n",
       "      <td>[[Tom Cruise Erupts At Crew Over COVID-19 Brea...</td>\n",
       "      <td>Susi Siebert</td>\n",
       "      <td>One positive Covid test on a set shuts down an...</td>\n",
       "      <td>2 weeks ago</td>\n",
       "    </tr>\n",
       "    <tr>\n",
       "      <th>1</th>\n",
       "      <td>[[Tom Cruise Erupts At Crew Over COVID-19 Brea...</td>\n",
       "      <td>Pedro Cabo</td>\n",
       "      <td>With respect to everyone, if this was not abou...</td>\n",
       "      <td>1 week ago</td>\n",
       "    </tr>\n",
       "    <tr>\n",
       "      <th>2</th>\n",
       "      <td>[[Tom Cruise Erupts At Crew Over COVID-19 Brea...</td>\n",
       "      <td>roy wicaksono</td>\n",
       "      <td>tom cruise angry at them to protect them and h...</td>\n",
       "      <td>2 weeks ago</td>\n",
       "    </tr>\n",
       "    <tr>\n",
       "      <th>3</th>\n",
       "      <td>[[Tom Cruise Erupts At Crew Over COVID-19 Brea...</td>\n",
       "      <td>wms</td>\n",
       "      <td>He is trying to keep people safe while providi...</td>\n",
       "      <td>2 weeks ago</td>\n",
       "    </tr>\n",
       "    <tr>\n",
       "      <th>4</th>\n",
       "      <td>[[Tom Cruise Erupts At Crew Over COVID-19 Brea...</td>\n",
       "      <td>dessaml18</td>\n",
       "      <td>This is the most rational thing Tom Cruise has...</td>\n",
       "      <td>2 weeks ago</td>\n",
       "    </tr>\n",
       "  </tbody>\n",
       "</table>\n",
       "</div>"
      ],
      "text/plain": [
       "                                               TITLE      USER_NAME  \\\n",
       "0  [[Tom Cruise Erupts At Crew Over COVID-19 Brea...   Susi Siebert   \n",
       "1  [[Tom Cruise Erupts At Crew Over COVID-19 Brea...     Pedro Cabo   \n",
       "2  [[Tom Cruise Erupts At Crew Over COVID-19 Brea...  roy wicaksono   \n",
       "3  [[Tom Cruise Erupts At Crew Over COVID-19 Brea...            wms   \n",
       "4  [[Tom Cruise Erupts At Crew Over COVID-19 Brea...      dessaml18   \n",
       "\n",
       "                                        USER_COMMENT         DATE  \n",
       "0  One positive Covid test on a set shuts down an...  2 weeks ago  \n",
       "1  With respect to everyone, if this was not abou...   1 week ago  \n",
       "2  tom cruise angry at them to protect them and h...  2 weeks ago  \n",
       "3  He is trying to keep people safe while providi...  2 weeks ago  \n",
       "4  This is the most rational thing Tom Cruise has...  2 weeks ago  "
      ]
     },
     "execution_count": 33,
     "metadata": {},
     "output_type": "execute_result"
    }
   ],
   "source": [
    "driver.get(url5)\n",
    "\n",
    "SCROLL_PAUSE_TIME = .5\n",
    "\n",
    "body= driver.find_element_by_tag_name('body')\n",
    "while True:\n",
    "    last_height = driver.execute_script('return document.documentElement.scrollHeight') \n",
    "    for i in range(30):\n",
    "        body.send_keys(Keys.END)\n",
    "        time.sleep(SCROLL_PAUSE_TIME)\n",
    "    new_height = driver.execute_script('return document.documentElement.scrollHeight')\n",
    "    \n",
    "    if new_height == last_height: \n",
    "         break;\n",
    "            \n",
    "page = driver.page_source\n",
    "soup = BeautifulSoup(page, 'lxml')\n",
    "\n",
    "title = list(soup.select('#container > h1 > yt-formatted-string'))\n",
    "user_names = list(map(lambda x: x.text.strip(), soup.select('#author-text > span'))) \n",
    "user_comments = list(map(lambda x: x.text.strip(), soup.select('#content-text')))\n",
    "user_date = list(map(lambda x: x.text.strip(), soup.select('#header-author > yt-formatted-string > a')))\n",
    "\n",
    "len(title), len(user_names), len(user_comments),len(user_date)\n",
    "titles=[title]*len(user_names)\n",
    "\n",
    "import pandas as pd\n",
    "youtube5 = pd.DataFrame({\n",
    "    'TITLE': titles,\n",
    "    'USER_NAME': user_names,\n",
    "    'USER_COMMENT':user_comments,\n",
    "    'DATE':user_date\n",
    "})\n",
    "youtube5.head()\n"
   ]
  },
  {
   "cell_type": "code",
   "execution_count": 34,
   "metadata": {},
   "outputs": [
    {
     "data": {
      "text/html": [
       "<div>\n",
       "<style scoped>\n",
       "    .dataframe tbody tr th:only-of-type {\n",
       "        vertical-align: middle;\n",
       "    }\n",
       "\n",
       "    .dataframe tbody tr th {\n",
       "        vertical-align: top;\n",
       "    }\n",
       "\n",
       "    .dataframe thead th {\n",
       "        text-align: right;\n",
       "    }\n",
       "</style>\n",
       "<table border=\"1\" class=\"dataframe\">\n",
       "  <thead>\n",
       "    <tr style=\"text-align: right;\">\n",
       "      <th></th>\n",
       "      <th>TITLE</th>\n",
       "      <th>USER_NAME</th>\n",
       "      <th>USER_COMMENT</th>\n",
       "      <th>DATE</th>\n",
       "    </tr>\n",
       "  </thead>\n",
       "  <tbody>\n",
       "    <tr>\n",
       "      <th>0</th>\n",
       "      <td>[[Who Didn't Tell Santa Claus About COVID-19?]]</td>\n",
       "      <td>Mister Derp</td>\n",
       "      <td>\"All I want for Christmas is revenge\" is one o...</td>\n",
       "      <td>2 weeks ago</td>\n",
       "    </tr>\n",
       "    <tr>\n",
       "      <th>1</th>\n",
       "      <td>[[Who Didn't Tell Santa Claus About COVID-19?]]</td>\n",
       "      <td>Maxine Ohara</td>\n",
       "      <td>Am I the only one who's soul died a bit when h...</td>\n",
       "      <td>2 weeks ago</td>\n",
       "    </tr>\n",
       "    <tr>\n",
       "      <th>2</th>\n",
       "      <td>[[Who Didn't Tell Santa Claus About COVID-19?]]</td>\n",
       "      <td>Captain Nialler Nandos</td>\n",
       "      <td>“Is that another one of the adorable boy bands...</td>\n",
       "      <td>2 weeks ago</td>\n",
       "    </tr>\n",
       "    <tr>\n",
       "      <th>3</th>\n",
       "      <td>[[Who Didn't Tell Santa Claus About COVID-19?]]</td>\n",
       "      <td>Robert Cringle</td>\n",
       "      <td>Now we know why Ian shaved off his moustache.</td>\n",
       "      <td>2 weeks ago (edited)</td>\n",
       "    </tr>\n",
       "    <tr>\n",
       "      <th>4</th>\n",
       "      <td>[[Who Didn't Tell Santa Claus About COVID-19?]]</td>\n",
       "      <td>David Ogden</td>\n",
       "      <td>I'm starting to think that Santa may be Jewish...</td>\n",
       "      <td>2 weeks ago</td>\n",
       "    </tr>\n",
       "  </tbody>\n",
       "</table>\n",
       "</div>"
      ],
      "text/plain": [
       "                                             TITLE               USER_NAME  \\\n",
       "0  [[Who Didn't Tell Santa Claus About COVID-19?]]             Mister Derp   \n",
       "1  [[Who Didn't Tell Santa Claus About COVID-19?]]            Maxine Ohara   \n",
       "2  [[Who Didn't Tell Santa Claus About COVID-19?]]  Captain Nialler Nandos   \n",
       "3  [[Who Didn't Tell Santa Claus About COVID-19?]]          Robert Cringle   \n",
       "4  [[Who Didn't Tell Santa Claus About COVID-19?]]             David Ogden   \n",
       "\n",
       "                                        USER_COMMENT                  DATE  \n",
       "0  \"All I want for Christmas is revenge\" is one o...           2 weeks ago  \n",
       "1  Am I the only one who's soul died a bit when h...           2 weeks ago  \n",
       "2  “Is that another one of the adorable boy bands...           2 weeks ago  \n",
       "3      Now we know why Ian shaved off his moustache.  2 weeks ago (edited)  \n",
       "4  I'm starting to think that Santa may be Jewish...           2 weeks ago  "
      ]
     },
     "execution_count": 34,
     "metadata": {},
     "output_type": "execute_result"
    }
   ],
   "source": [
    "driver.get(url6)\n",
    "\n",
    "SCROLL_PAUSE_TIME = .5\n",
    "\n",
    "body= driver.find_element_by_tag_name('body')\n",
    "while True:\n",
    "    last_height = driver.execute_script('return document.documentElement.scrollHeight') \n",
    "    for i in range(30):\n",
    "        body.send_keys(Keys.END)\n",
    "        time.sleep(SCROLL_PAUSE_TIME)\n",
    "    new_height = driver.execute_script('return document.documentElement.scrollHeight')\n",
    "    \n",
    "    if new_height == last_height: \n",
    "         break;\n",
    "            \n",
    "page = driver.page_source\n",
    "soup = BeautifulSoup(page, 'lxml')\n",
    "\n",
    "title = list(soup.select('#container > h1 > yt-formatted-string'))\n",
    "user_names = list(map(lambda x: x.text.strip(), soup.select('#author-text > span'))) \n",
    "user_comments = list(map(lambda x: x.text.strip(), soup.select('#content-text')))\n",
    "user_date = list(map(lambda x: x.text.strip(), soup.select('#header-author > yt-formatted-string > a')))\n",
    "\n",
    "len(title), len(user_names), len(user_comments),len(user_date)\n",
    "titles=[title]*len(user_names)\n",
    "\n",
    "import pandas as pd\n",
    "youtube6 = pd.DataFrame({\n",
    "    'TITLE': titles,\n",
    "    'USER_NAME': user_names,\n",
    "    'USER_COMMENT':user_comments,\n",
    "    'DATE':user_date\n",
    "})\n",
    "youtube6.head()\n"
   ]
  },
  {
   "cell_type": "code",
   "execution_count": 35,
   "metadata": {},
   "outputs": [
    {
     "data": {
      "text/html": [
       "<div>\n",
       "<style scoped>\n",
       "    .dataframe tbody tr th:only-of-type {\n",
       "        vertical-align: middle;\n",
       "    }\n",
       "\n",
       "    .dataframe tbody tr th {\n",
       "        vertical-align: top;\n",
       "    }\n",
       "\n",
       "    .dataframe thead th {\n",
       "        text-align: right;\n",
       "    }\n",
       "</style>\n",
       "<table border=\"1\" class=\"dataframe\">\n",
       "  <thead>\n",
       "    <tr style=\"text-align: right;\">\n",
       "      <th></th>\n",
       "      <th>TITLE</th>\n",
       "      <th>USER_NAME</th>\n",
       "      <th>USER_COMMENT</th>\n",
       "      <th>DATE</th>\n",
       "    </tr>\n",
       "  </thead>\n",
       "  <tbody>\n",
       "    <tr>\n",
       "      <th>0</th>\n",
       "      <td>[[The Country That Learned to Live With Covid-...</td>\n",
       "      <td>Bloomberg Quicktake</td>\n",
       "      <td>Read Matthew Campbell and Heesu Lee's full sto...</td>\n",
       "      <td>2 weeks ago</td>\n",
       "    </tr>\n",
       "    <tr>\n",
       "      <th>1</th>\n",
       "      <td>[[The Country That Learned to Live With Covid-...</td>\n",
       "      <td>NoGu1Lt 206</td>\n",
       "      <td>They also put corrupt government officials in ...</td>\n",
       "      <td>2 weeks ago</td>\n",
       "    </tr>\n",
       "    <tr>\n",
       "      <th>2</th>\n",
       "      <td>[[The Country That Learned to Live With Covid-...</td>\n",
       "      <td>Jakub Jakub</td>\n",
       "      <td>I love how everyone around the American wears ...</td>\n",
       "      <td>1 week ago</td>\n",
       "    </tr>\n",
       "    <tr>\n",
       "      <th>3</th>\n",
       "      <td>[[The Country That Learned to Live With Covid-...</td>\n",
       "      <td>bischnou</td>\n",
       "      <td>“We want them infected” is the policy of the U...</td>\n",
       "      <td>2 weeks ago (edited)</td>\n",
       "    </tr>\n",
       "    <tr>\n",
       "      <th>4</th>\n",
       "      <td>[[The Country That Learned to Live With Covid-...</td>\n",
       "      <td>MYrandomtrip</td>\n",
       "      <td>It is more impressive considering South Korea ...</td>\n",
       "      <td>1 week ago</td>\n",
       "    </tr>\n",
       "  </tbody>\n",
       "</table>\n",
       "</div>"
      ],
      "text/plain": [
       "                                               TITLE            USER_NAME  \\\n",
       "0  [[The Country That Learned to Live With Covid-...  Bloomberg Quicktake   \n",
       "1  [[The Country That Learned to Live With Covid-...          NoGu1Lt 206   \n",
       "2  [[The Country That Learned to Live With Covid-...          Jakub Jakub   \n",
       "3  [[The Country That Learned to Live With Covid-...             bischnou   \n",
       "4  [[The Country That Learned to Live With Covid-...         MYrandomtrip   \n",
       "\n",
       "                                        USER_COMMENT                  DATE  \n",
       "0  Read Matthew Campbell and Heesu Lee's full sto...           2 weeks ago  \n",
       "1  They also put corrupt government officials in ...           2 weeks ago  \n",
       "2  I love how everyone around the American wears ...            1 week ago  \n",
       "3  “We want them infected” is the policy of the U...  2 weeks ago (edited)  \n",
       "4  It is more impressive considering South Korea ...            1 week ago  "
      ]
     },
     "execution_count": 35,
     "metadata": {},
     "output_type": "execute_result"
    }
   ],
   "source": [
    "driver.get(url7)\n",
    "\n",
    "SCROLL_PAUSE_TIME = .5\n",
    "\n",
    "body= driver.find_element_by_tag_name('body')\n",
    "while True:\n",
    "    last_height = driver.execute_script('return document.documentElement.scrollHeight') \n",
    "    for i in range(30):\n",
    "        body.send_keys(Keys.END)\n",
    "        time.sleep(SCROLL_PAUSE_TIME)\n",
    "    new_height = driver.execute_script('return document.documentElement.scrollHeight')\n",
    "    \n",
    "    if new_height == last_height: \n",
    "         break;\n",
    "            \n",
    "page = driver.page_source\n",
    "soup = BeautifulSoup(page, 'lxml')\n",
    "\n",
    "title = list(soup.select('#container > h1 > yt-formatted-string'))\n",
    "user_names = list(map(lambda x: x.text.strip(), soup.select('#author-text > span'))) \n",
    "user_comments = list(map(lambda x: x.text.strip(), soup.select('#content-text')))\n",
    "user_date = list(map(lambda x: x.text.strip(), soup.select('#header-author > yt-formatted-string > a')))\n",
    "\n",
    "len(title), len(user_names), len(user_comments),len(user_date)\n",
    "titles=[title]*len(user_names)\n",
    "\n",
    "import pandas as pd\n",
    "youtube7 = pd.DataFrame({\n",
    "    'TITLE': titles,\n",
    "    'USER_NAME': user_names,\n",
    "    'USER_COMMENT':user_comments,\n",
    "    'DATE':user_date\n",
    "})\n",
    "youtube7.head()\n"
   ]
  },
  {
   "cell_type": "code",
   "execution_count": 36,
   "metadata": {},
   "outputs": [
    {
     "data": {
      "text/html": [
       "<div>\n",
       "<style scoped>\n",
       "    .dataframe tbody tr th:only-of-type {\n",
       "        vertical-align: middle;\n",
       "    }\n",
       "\n",
       "    .dataframe tbody tr th {\n",
       "        vertical-align: top;\n",
       "    }\n",
       "\n",
       "    .dataframe thead th {\n",
       "        text-align: right;\n",
       "    }\n",
       "</style>\n",
       "<table border=\"1\" class=\"dataframe\">\n",
       "  <thead>\n",
       "    <tr style=\"text-align: right;\">\n",
       "      <th></th>\n",
       "      <th>TITLE</th>\n",
       "      <th>USER_NAME</th>\n",
       "      <th>USER_COMMENT</th>\n",
       "      <th>DATE</th>\n",
       "    </tr>\n",
       "  </thead>\n",
       "  <tbody>\n",
       "    <tr>\n",
       "      <th>0</th>\n",
       "      <td>[[Alaska health worker has serious allergic re...</td>\n",
       "      <td>KT</td>\n",
       "      <td>Should of gave the first vaccine to all the po...</td>\n",
       "      <td>2 weeks ago</td>\n",
       "    </tr>\n",
       "    <tr>\n",
       "      <th>1</th>\n",
       "      <td>[[Alaska health worker has serious allergic re...</td>\n",
       "      <td>Woof Woof</td>\n",
       "      <td>I'll take a 99+% chance of survival granted to...</td>\n",
       "      <td>2 weeks ago</td>\n",
       "    </tr>\n",
       "    <tr>\n",
       "      <th>2</th>\n",
       "      <td>[[Alaska health worker has serious allergic re...</td>\n",
       "      <td>Ash M</td>\n",
       "      <td>There’s a hospital ( I saw it on the news) tha...</td>\n",
       "      <td>2 weeks ago</td>\n",
       "    </tr>\n",
       "    <tr>\n",
       "      <th>3</th>\n",
       "      <td>[[Alaska health worker has serious allergic re...</td>\n",
       "      <td>Sabine</td>\n",
       "      <td>Pharma IS NOT LIABLE for any damages you are o...</td>\n",
       "      <td>2 weeks ago</td>\n",
       "    </tr>\n",
       "    <tr>\n",
       "      <th>4</th>\n",
       "      <td>[[Alaska health worker has serious allergic re...</td>\n",
       "      <td>C B</td>\n",
       "      <td>People should social distance from these Covid...</td>\n",
       "      <td>2 weeks ago</td>\n",
       "    </tr>\n",
       "  </tbody>\n",
       "</table>\n",
       "</div>"
      ],
      "text/plain": [
       "                                               TITLE  USER_NAME  \\\n",
       "0  [[Alaska health worker has serious allergic re...         KT   \n",
       "1  [[Alaska health worker has serious allergic re...  Woof Woof   \n",
       "2  [[Alaska health worker has serious allergic re...      Ash M   \n",
       "3  [[Alaska health worker has serious allergic re...     Sabine   \n",
       "4  [[Alaska health worker has serious allergic re...        C B   \n",
       "\n",
       "                                        USER_COMMENT         DATE  \n",
       "0  Should of gave the first vaccine to all the po...  2 weeks ago  \n",
       "1  I'll take a 99+% chance of survival granted to...  2 weeks ago  \n",
       "2  There’s a hospital ( I saw it on the news) tha...  2 weeks ago  \n",
       "3  Pharma IS NOT LIABLE for any damages you are o...  2 weeks ago  \n",
       "4  People should social distance from these Covid...  2 weeks ago  "
      ]
     },
     "execution_count": 36,
     "metadata": {},
     "output_type": "execute_result"
    }
   ],
   "source": [
    "driver.get(url8)\n",
    "\n",
    "SCROLL_PAUSE_TIME = .5\n",
    "\n",
    "body= driver.find_element_by_tag_name('body')\n",
    "while True:\n",
    "    last_height = driver.execute_script('return document.documentElement.scrollHeight') \n",
    "    for i in range(30):\n",
    "        body.send_keys(Keys.END)\n",
    "        time.sleep(SCROLL_PAUSE_TIME)\n",
    "    new_height = driver.execute_script('return document.documentElement.scrollHeight')\n",
    "    \n",
    "    if new_height == last_height: \n",
    "         break;\n",
    "            \n",
    "page = driver.page_source\n",
    "soup = BeautifulSoup(page, 'lxml')\n",
    "\n",
    "title = list(soup.select('#container > h1 > yt-formatted-string'))\n",
    "user_names = list(map(lambda x: x.text.strip(), soup.select('#author-text > span'))) \n",
    "user_comments = list(map(lambda x: x.text.strip(), soup.select('#content-text')))\n",
    "user_date = list(map(lambda x: x.text.strip(), soup.select('#header-author > yt-formatted-string > a')))\n",
    "\n",
    "len(title), len(user_names), len(user_comments),len(user_date)\n",
    "titles=[title]*len(user_names)\n",
    "\n",
    "import pandas as pd\n",
    "youtube8 = pd.DataFrame({\n",
    "    'TITLE': titles,\n",
    "    'USER_NAME': user_names,\n",
    "    'USER_COMMENT':user_comments,\n",
    "    'DATE':user_date\n",
    "})\n",
    "youtube8.head()\n"
   ]
  },
  {
   "cell_type": "code",
   "execution_count": 37,
   "metadata": {},
   "outputs": [
    {
     "data": {
      "text/html": [
       "<div>\n",
       "<style scoped>\n",
       "    .dataframe tbody tr th:only-of-type {\n",
       "        vertical-align: middle;\n",
       "    }\n",
       "\n",
       "    .dataframe tbody tr th {\n",
       "        vertical-align: top;\n",
       "    }\n",
       "\n",
       "    .dataframe thead th {\n",
       "        text-align: right;\n",
       "    }\n",
       "</style>\n",
       "<table border=\"1\" class=\"dataframe\">\n",
       "  <thead>\n",
       "    <tr style=\"text-align: right;\">\n",
       "      <th></th>\n",
       "      <th>TITLE</th>\n",
       "      <th>USER_NAME</th>\n",
       "      <th>USER_COMMENT</th>\n",
       "      <th>DATE</th>\n",
       "    </tr>\n",
       "  </thead>\n",
       "  <tbody>\n",
       "    <tr>\n",
       "      <th>0</th>\n",
       "      <td>[[Congress closes in on a $900 billion Covid-1...</td>\n",
       "      <td>David Curry</td>\n",
       "      <td>There's always enough money for war and bank b...</td>\n",
       "      <td>2 weeks ago (edited)</td>\n",
       "    </tr>\n",
       "    <tr>\n",
       "      <th>1</th>\n",
       "      <td>[[Congress closes in on a $900 billion Covid-1...</td>\n",
       "      <td>S Y</td>\n",
       "      <td>$600 ... just a lil crumble of bread when you’...</td>\n",
       "      <td>2 weeks ago</td>\n",
       "    </tr>\n",
       "    <tr>\n",
       "      <th>2</th>\n",
       "      <td>[[Congress closes in on a $900 billion Covid-1...</td>\n",
       "      <td>Tay234</td>\n",
       "      <td>“Help is on the way” 😂 y’all haven’t been able...</td>\n",
       "      <td>2 weeks ago</td>\n",
       "    </tr>\n",
       "    <tr>\n",
       "      <th>3</th>\n",
       "      <td>[[Congress closes in on a $900 billion Covid-1...</td>\n",
       "      <td>DiamondMasters</td>\n",
       "      <td>\"We are not leaving here until we have a Covid...</td>\n",
       "      <td>2 weeks ago</td>\n",
       "    </tr>\n",
       "    <tr>\n",
       "      <th>4</th>\n",
       "      <td>[[Congress closes in on a $900 billion Covid-1...</td>\n",
       "      <td>Brandon Massey</td>\n",
       "      <td>“Help is on the way” thanks Mitch, only 7 mont...</td>\n",
       "      <td>2 weeks ago</td>\n",
       "    </tr>\n",
       "  </tbody>\n",
       "</table>\n",
       "</div>"
      ],
      "text/plain": [
       "                                               TITLE       USER_NAME  \\\n",
       "0  [[Congress closes in on a $900 billion Covid-1...     David Curry   \n",
       "1  [[Congress closes in on a $900 billion Covid-1...             S Y   \n",
       "2  [[Congress closes in on a $900 billion Covid-1...          Tay234   \n",
       "3  [[Congress closes in on a $900 billion Covid-1...  DiamondMasters   \n",
       "4  [[Congress closes in on a $900 billion Covid-1...  Brandon Massey   \n",
       "\n",
       "                                        USER_COMMENT                  DATE  \n",
       "0  There's always enough money for war and bank b...  2 weeks ago (edited)  \n",
       "1  $600 ... just a lil crumble of bread when you’...           2 weeks ago  \n",
       "2  “Help is on the way” 😂 y’all haven’t been able...           2 weeks ago  \n",
       "3  \"We are not leaving here until we have a Covid...           2 weeks ago  \n",
       "4  “Help is on the way” thanks Mitch, only 7 mont...           2 weeks ago  "
      ]
     },
     "execution_count": 37,
     "metadata": {},
     "output_type": "execute_result"
    }
   ],
   "source": [
    "driver.get(url9)\n",
    "\n",
    "SCROLL_PAUSE_TIME = .5\n",
    "\n",
    "body= driver.find_element_by_tag_name('body')\n",
    "while True:\n",
    "    last_height = driver.execute_script('return document.documentElement.scrollHeight') \n",
    "    for i in range(30):\n",
    "        body.send_keys(Keys.END)\n",
    "        time.sleep(SCROLL_PAUSE_TIME)\n",
    "    new_height = driver.execute_script('return document.documentElement.scrollHeight')\n",
    "    \n",
    "    if new_height == last_height: \n",
    "         break;\n",
    "            \n",
    "page = driver.page_source\n",
    "soup = BeautifulSoup(page, 'lxml')\n",
    "\n",
    "title = list(soup.select('#container > h1 > yt-formatted-string'))\n",
    "user_names = list(map(lambda x: x.text.strip(), soup.select('#author-text > span'))) \n",
    "user_comments = list(map(lambda x: x.text.strip(), soup.select('#content-text')))\n",
    "user_date = list(map(lambda x: x.text.strip(), soup.select('#header-author > yt-formatted-string > a')))\n",
    "\n",
    "len(title), len(user_names), len(user_comments),len(user_date)\n",
    "titles=[title]*len(user_names)\n",
    "\n",
    "import pandas as pd\n",
    "youtube9 = pd.DataFrame({\n",
    "    'TITLE': titles,\n",
    "    'USER_NAME': user_names,\n",
    "    'USER_COMMENT':user_comments,\n",
    "    'DATE':user_date\n",
    "})\n",
    "youtube9.head()\n"
   ]
  },
  {
   "cell_type": "code",
   "execution_count": 38,
   "metadata": {},
   "outputs": [
    {
     "data": {
      "text/html": [
       "<div>\n",
       "<style scoped>\n",
       "    .dataframe tbody tr th:only-of-type {\n",
       "        vertical-align: middle;\n",
       "    }\n",
       "\n",
       "    .dataframe tbody tr th {\n",
       "        vertical-align: top;\n",
       "    }\n",
       "\n",
       "    .dataframe thead th {\n",
       "        text-align: right;\n",
       "    }\n",
       "</style>\n",
       "<table border=\"1\" class=\"dataframe\">\n",
       "  <thead>\n",
       "    <tr style=\"text-align: right;\">\n",
       "      <th></th>\n",
       "      <th>TITLE</th>\n",
       "      <th>USER_NAME</th>\n",
       "      <th>USER_COMMENT</th>\n",
       "      <th>DATE</th>\n",
       "    </tr>\n",
       "  </thead>\n",
       "  <tbody>\n",
       "    <tr>\n",
       "      <th>0</th>\n",
       "      <td>[[New variant of COVID-19 found in South East ...</td>\n",
       "      <td>Jordan Brinklow</td>\n",
       "      <td>Covids coming out like iPhones</td>\n",
       "      <td>2 weeks ago</td>\n",
       "    </tr>\n",
       "    <tr>\n",
       "      <th>1</th>\n",
       "      <td>[[New variant of COVID-19 found in South East ...</td>\n",
       "      <td>Cam Gray</td>\n",
       "      <td>“This is getting out of hand. Now there are TW...</td>\n",
       "      <td>2 weeks ago</td>\n",
       "    </tr>\n",
       "    <tr>\n",
       "      <th>2</th>\n",
       "      <td>[[New variant of COVID-19 found in South East ...</td>\n",
       "      <td>NutritiousBIG Spaniel</td>\n",
       "      <td>I think \"the new variant\" has started on his h...</td>\n",
       "      <td>2 weeks ago</td>\n",
       "    </tr>\n",
       "    <tr>\n",
       "      <th>3</th>\n",
       "      <td>[[New variant of COVID-19 found in South East ...</td>\n",
       "      <td>maymod rayman</td>\n",
       "      <td>\"Dont worry\" he says... is that not what he sa...</td>\n",
       "      <td>2 weeks ago</td>\n",
       "    </tr>\n",
       "    <tr>\n",
       "      <th>4</th>\n",
       "      <td>[[New variant of COVID-19 found in South East ...</td>\n",
       "      <td>NeeTÇuk</td>\n",
       "      <td>2021 is loading...\\nEdit : I got more likes fr...</td>\n",
       "      <td>2 weeks ago (edited)</td>\n",
       "    </tr>\n",
       "  </tbody>\n",
       "</table>\n",
       "</div>"
      ],
      "text/plain": [
       "                                               TITLE              USER_NAME  \\\n",
       "0  [[New variant of COVID-19 found in South East ...        Jordan Brinklow   \n",
       "1  [[New variant of COVID-19 found in South East ...               Cam Gray   \n",
       "2  [[New variant of COVID-19 found in South East ...  NutritiousBIG Spaniel   \n",
       "3  [[New variant of COVID-19 found in South East ...          maymod rayman   \n",
       "4  [[New variant of COVID-19 found in South East ...                NeeTÇuk   \n",
       "\n",
       "                                        USER_COMMENT                  DATE  \n",
       "0                     Covids coming out like iPhones           2 weeks ago  \n",
       "1  “This is getting out of hand. Now there are TW...           2 weeks ago  \n",
       "2  I think \"the new variant\" has started on his h...           2 weeks ago  \n",
       "3  \"Dont worry\" he says... is that not what he sa...           2 weeks ago  \n",
       "4  2021 is loading...\\nEdit : I got more likes fr...  2 weeks ago (edited)  "
      ]
     },
     "execution_count": 38,
     "metadata": {},
     "output_type": "execute_result"
    }
   ],
   "source": [
    "driver.get(url10)\n",
    "\n",
    "SCROLL_PAUSE_TIME = .5\n",
    "\n",
    "body= driver.find_element_by_tag_name('body')\n",
    "while True:\n",
    "    last_height = driver.execute_script('return document.documentElement.scrollHeight') \n",
    "    for i in range(30):\n",
    "        body.send_keys(Keys.END)\n",
    "        time.sleep(SCROLL_PAUSE_TIME)\n",
    "    new_height = driver.execute_script('return document.documentElement.scrollHeight')\n",
    "    \n",
    "    if new_height == last_height: \n",
    "         break;\n",
    "            \n",
    "page = driver.page_source\n",
    "soup = BeautifulSoup(page, 'lxml')\n",
    "\n",
    "title = list(soup.select('#container > h1 > yt-formatted-string'))\n",
    "user_names = list(map(lambda x: x.text.strip(), soup.select('#author-text > span'))) \n",
    "user_comments = list(map(lambda x: x.text.strip(), soup.select('#content-text')))\n",
    "user_date = list(map(lambda x: x.text.strip(), soup.select('#header-author > yt-formatted-string > a')))\n",
    "\n",
    "len(title), len(user_names), len(user_comments),len(user_date)\n",
    "titles=[title]*len(user_names)\n",
    "\n",
    "import pandas as pd\n",
    "youtube10 = pd.DataFrame({\n",
    "    'TITLE': titles,\n",
    "    'USER_NAME': user_names,\n",
    "    'USER_COMMENT':user_comments,\n",
    "    'DATE':user_date\n",
    "})\n",
    "youtube10.head()\n"
   ]
  },
  {
   "cell_type": "code",
   "execution_count": 48,
   "metadata": {},
   "outputs": [],
   "source": [
    "covid=[youtube1, youtube2, youtube3, youtube4, youtube5, youtube6, youtube7, youtube8, youtube9, youtube10]\n",
    "covid_virus=pd.concat([youtube1, youtube2, youtube3, youtube4, youtube5, youtube6, youtube7, youtube8, youtube9, youtube10])"
   ]
  },
  {
   "cell_type": "code",
   "execution_count": 49,
   "metadata": {},
   "outputs": [
    {
     "data": {
      "text/html": [
       "<div>\n",
       "<style scoped>\n",
       "    .dataframe tbody tr th:only-of-type {\n",
       "        vertical-align: middle;\n",
       "    }\n",
       "\n",
       "    .dataframe tbody tr th {\n",
       "        vertical-align: top;\n",
       "    }\n",
       "\n",
       "    .dataframe thead th {\n",
       "        text-align: right;\n",
       "    }\n",
       "</style>\n",
       "<table border=\"1\" class=\"dataframe\">\n",
       "  <thead>\n",
       "    <tr style=\"text-align: right;\">\n",
       "      <th></th>\n",
       "      <th>TITLE</th>\n",
       "      <th>USER_NAME</th>\n",
       "      <th>USER_COMMENT</th>\n",
       "      <th>DATE</th>\n",
       "    </tr>\n",
       "  </thead>\n",
       "  <tbody>\n",
       "    <tr>\n",
       "      <th>0</th>\n",
       "      <td>[[Fauci on what to know about COVID-19 vaccine...</td>\n",
       "      <td>José Sánchez</td>\n",
       "      <td>The American People Don't Believe Anything Unt...</td>\n",
       "      <td>2 weeks ago</td>\n",
       "    </tr>\n",
       "    <tr>\n",
       "      <th>1</th>\n",
       "      <td>[[Fauci on what to know about COVID-19 vaccine...</td>\n",
       "      <td>Landscape Luke</td>\n",
       "      <td>Brave of them to allow comments for this video</td>\n",
       "      <td>2 weeks ago</td>\n",
       "    </tr>\n",
       "    <tr>\n",
       "      <th>2</th>\n",
       "      <td>[[Fauci on what to know about COVID-19 vaccine...</td>\n",
       "      <td>Zero Two</td>\n",
       "      <td>The media is a meme at this point</td>\n",
       "      <td>2 weeks ago</td>\n",
       "    </tr>\n",
       "    <tr>\n",
       "      <th>3</th>\n",
       "      <td>[[Fauci on what to know about COVID-19 vaccine...</td>\n",
       "      <td>Paul M.</td>\n",
       "      <td>WHEN I WAS A CHILD I LIVED IN A FANTASY WORLD,...</td>\n",
       "      <td>2 weeks ago</td>\n",
       "    </tr>\n",
       "    <tr>\n",
       "      <th>4</th>\n",
       "      <td>[[Fauci on what to know about COVID-19 vaccine...</td>\n",
       "      <td>TR Was Here</td>\n",
       "      <td>The people are finally waking up to the corona...</td>\n",
       "      <td>2 weeks ago</td>\n",
       "    </tr>\n",
       "  </tbody>\n",
       "</table>\n",
       "</div>"
      ],
      "text/plain": [
       "                                               TITLE       USER_NAME  \\\n",
       "0  [[Fauci on what to know about COVID-19 vaccine...    José Sánchez   \n",
       "1  [[Fauci on what to know about COVID-19 vaccine...  Landscape Luke   \n",
       "2  [[Fauci on what to know about COVID-19 vaccine...        Zero Two   \n",
       "3  [[Fauci on what to know about COVID-19 vaccine...         Paul M.   \n",
       "4  [[Fauci on what to know about COVID-19 vaccine...     TR Was Here   \n",
       "\n",
       "                                        USER_COMMENT         DATE  \n",
       "0  The American People Don't Believe Anything Unt...  2 weeks ago  \n",
       "1     Brave of them to allow comments for this video  2 weeks ago  \n",
       "2                  The media is a meme at this point  2 weeks ago  \n",
       "3  WHEN I WAS A CHILD I LIVED IN A FANTASY WORLD,...  2 weeks ago  \n",
       "4  The people are finally waking up to the corona...  2 weeks ago  "
      ]
     },
     "execution_count": 49,
     "metadata": {},
     "output_type": "execute_result"
    }
   ],
   "source": [
    "covid_virus.head()"
   ]
  },
  {
   "cell_type": "code",
   "execution_count": null,
   "metadata": {},
   "outputs": [],
   "source": []
  }
 ],
 "metadata": {
  "kernelspec": {
   "display_name": "conda_python3",
   "language": "python",
   "name": "conda_python3"
  },
  "language_info": {
   "codemirror_mode": {
    "name": "ipython",
    "version": 3
   },
   "file_extension": ".py",
   "mimetype": "text/x-python",
   "name": "python",
   "nbconvert_exporter": "python",
   "pygments_lexer": "ipython3",
   "version": "3.6.10"
  }
 },
 "nbformat": 4,
 "nbformat_minor": 4
}
